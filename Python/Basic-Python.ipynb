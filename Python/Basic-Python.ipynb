{
 "cells": [
  {
   "cell_type": "markdown",
   "id": "94fa5db1-5bd6-4e2e-865e-6c0fe79fcd5c",
   "metadata": {},
   "source": [
    "# Python 101\n",
    "\n",
    "In this section, we will explore the very basic parts of Python to get things started."
   ]
  },
  {
   "cell_type": "markdown",
   "id": "873fb2e0-1d72-47ed-b87f-124e33c7fb09",
   "metadata": {
    "tags": []
   },
   "source": [
    "## Common built-in Python data types\n",
    "\n",
    "| English name          | Type name  | Type Category  | Description                                   | Example                                    |\n",
    "| :-------------------- | :--------- | :------------- | :-------------------------------------------- | :----------------------------------------- |\n",
    "| integer               | `int`      | Numeric Type   | positive/negative whole numbers               | `42`                                       |\n",
    "| floating point number | `float`    | Numeric Type   | real number in decimal form                   | `3.14159`                                  |\n",
    "| boolean               | `bool`     | Boolean Values | true or false                                 | `True`                                     |\n",
    "| string                | `str`      | Sequence Type  | text                                          | `\"Can I have a cheezburger?\"`              |\n",
    "| list                  | `list`     | Sequence Type  | a collection of objects - mutable & ordered   | `['Ali', 'Xinyi', 'Miriam']`               |\n",
    "| tuple                 | `tuple`    | Sequence Type  | a collection of objects - immutable & ordered | `('Thursday', 6, 9, 2018)`                 |\n",
    "| dictionary            | `dict`     | Mapping Type   | mapping of key-value pairs                    | `{'name':'DSCI', 'code':511, 'credits':2}` |\n",
    "| none                  | `NoneType` | Null Object    | represents no value                           | `None`                                     |"
   ]
  },
  {
   "cell_type": "markdown",
   "id": "31b592d5-77b5-4d59-bb59-961074b3010c",
   "metadata": {},
   "source": [
    "### Numeric data types\n",
    "\n",
    "- `int`\n",
    "    - long int and short int\n",
    "- `float`\n",
    "    - LINK TO: Floating point error (572 lecture 1)\n",
    "- `complex` from the package `cmath`\n",
    "    - (maybe not that important)"
   ]
  },
  {
   "cell_type": "markdown",
   "id": "c995187d-92e5-40e2-b037-cc307ec799f0",
   "metadata": {},
   "source": [
    "### Sequence data types\n",
    "\n",
    "- `str`\n",
    "    - string operations/methods\n",
    "    - string formatting\n",
    "    - string escapes\n",
    "- `list`\n",
    "    - indexing and slicing\n",
    "- `tuple`\n",
    "    - mutable vs. immutable"
   ]
  },
  {
   "cell_type": "markdown",
   "id": "8aa9dccf-5f2c-43d0-95c3-7278ce6f9478",
   "metadata": {},
   "source": [
    "### Other data types\n",
    "- `bool` (boolean values)\n",
    "- `dict` (mapping type)\n",
    "- `NoneType` (Null object)\n",
    "- `set`\n",
    "    - unordered list of unique items"
   ]
  },
  {
   "cell_type": "markdown",
   "id": "41e667f0-a0ac-4b0d-b66c-1c6cf5135cd1",
   "metadata": {},
   "source": []
  },
  {
   "cell_type": "markdown",
   "id": "3a2dde6e-3a2e-4b7a-a5a4-1052c2c16fe3",
   "metadata": {},
   "source": []
  },
  {
   "cell_type": "markdown",
   "id": "667a50dd-b71f-44a9-ab4e-4c8f768a2465",
   "metadata": {},
   "source": []
  },
  {
   "cell_type": "markdown",
   "id": "e96bc0b7-c739-49c8-9e8a-7960dc77ff67",
   "metadata": {},
   "source": []
  },
  {
   "cell_type": "markdown",
   "id": "8c7cafb9-19ba-4546-9950-f0b388cdfe7a",
   "metadata": {},
   "source": []
  },
  {
   "cell_type": "markdown",
   "id": "15563f85-6343-4cd2-955e-412107b0fcfe",
   "metadata": {},
   "source": []
  },
  {
   "cell_type": "markdown",
   "id": "b021123c-58b1-4a7a-8475-5bfabfa3cc2a",
   "metadata": {},
   "source": []
  },
  {
   "cell_type": "markdown",
   "id": "65eb2f54-7462-4a3c-b8de-95f054fa154e",
   "metadata": {},
   "source": []
  },
  {
   "cell_type": "markdown",
   "id": "2425e4e5-298f-406c-9936-224b837d2a8c",
   "metadata": {},
   "source": []
  },
  {
   "cell_type": "markdown",
   "id": "442aeb8d-313b-40bb-83a5-dfe1f88308aa",
   "metadata": {},
   "source": []
  },
  {
   "cell_type": "markdown",
   "id": "07b9c127-8252-4a68-b874-f16b95e4dccd",
   "metadata": {},
   "source": []
  },
  {
   "cell_type": "markdown",
   "id": "bb9ee25d-96f9-44fd-914a-bc30ef9be86f",
   "metadata": {},
   "source": []
  },
  {
   "cell_type": "markdown",
   "id": "d6a36b05-571d-4983-b31a-cbaece33873d",
   "metadata": {},
   "source": []
  }
 ],
 "metadata": {
  "kernelspec": {
   "display_name": "Python 3 (ipykernel)",
   "language": "python",
   "name": "python3"
  },
  "language_info": {
   "codemirror_mode": {
    "name": "ipython",
    "version": 3
   },
   "file_extension": ".py",
   "mimetype": "text/x-python",
   "name": "python",
   "nbconvert_exporter": "python",
   "pygments_lexer": "ipython3",
   "version": "3.9.5"
  },
  "widgets": {
   "application/vnd.jupyter.widget-state+json": {
    "state": {},
    "version_major": 2,
    "version_minor": 0
   }
  }
 },
 "nbformat": 4,
 "nbformat_minor": 5
}
