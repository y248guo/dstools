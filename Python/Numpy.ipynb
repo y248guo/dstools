{
 "cells": [
  {
   "cell_type": "markdown",
   "id": "e464f60a-c164-44a6-8617-0a62995e177c",
   "metadata": {},
   "source": [
    "# NumPy\n",
    "\n",
    "<div>\n",
    "<img src=\"../images/numpy_logo.png\" width=\"300\"/>\n",
    "</div>"
   ]
  },
  {
   "cell_type": "markdown",
   "id": "ad3c1b33-8a5a-4f5c-86d4-c5010a5fa7ff",
   "metadata": {},
   "source": [
    "## Intro\n",
    "\n",
    "- NumPy = \"Numerical Python\", which is a commonly used Python package working with arrays, linear algebra and other numerical computations\n",
    "    - Written in C, NumPy can deal with arrays much more efficiently comparing to working with arrays in Python\n",
    "- Let us import NumPy and explore the basics of this helpful package:\n",
    "    - Included in the `env-dstools.yml` in the root directory; can also be installed with `conda install numpy`"
   ]
  },
  {
   "cell_type": "code",
   "execution_count": 1,
   "id": "1976a1a5-6fbf-45b4-be5c-fc89f2594739",
   "metadata": {},
   "outputs": [],
   "source": [
    "import numpy as np"
   ]
  },
  {
   "cell_type": "code",
   "execution_count": 2,
   "id": "69e6978d-ab89-4ed9-a6e5-0d911d82d5de",
   "metadata": {},
   "outputs": [
    {
     "name": "stdout",
     "output_type": "stream",
     "text": [
      "[1 2 3 4 5]\n",
      "<class 'numpy.ndarray'>\n"
     ]
    }
   ],
   "source": [
    "first_array = np.array([1, 2, 3, 4, 5])\n",
    "print(first_array)\n",
    "print(type(first_array))"
   ]
  },
  {
   "cell_type": "markdown",
   "id": "37947004-35df-4f65-b874-2bad5daefb75",
   "metadata": {},
   "source": [
    "- Unlike Python lists, NumPy arrays can only contain elements with a single data type"
   ]
  },
  {
   "cell_type": "code",
   "execution_count": 3,
   "id": "09631e59-cbd4-4abf-9efc-c41da2fb6744",
   "metadata": {},
   "outputs": [
    {
     "data": {
      "text/plain": [
       "[str, int, bool]"
      ]
     },
     "execution_count": 3,
     "metadata": {},
     "output_type": "execute_result"
    }
   ],
   "source": [
    "python_list = [\"this is a string\", 1, True]\n",
    "[type(element) for element in python_list]"
   ]
  },
  {
   "cell_type": "code",
   "execution_count": 4,
   "id": "4ef192fa-8e0b-4db5-8905-3a6b0e0dca77",
   "metadata": {},
   "outputs": [
    {
     "data": {
      "text/plain": [
       "[numpy.str_, numpy.str_, numpy.str_]"
      ]
     },
     "execution_count": 4,
     "metadata": {},
     "output_type": "execute_result"
    }
   ],
   "source": [
    "numpy_array = np.array(python_list)\n",
    "[type(element) for element in numpy_array]"
   ]
  },
  {
   "cell_type": "markdown",
   "id": "1e5e3c53-46fd-4128-a68d-353754041c91",
   "metadata": {},
   "source": [
    "- Some examples of creating NumPy array with Python lists and other methods:"
   ]
  },
  {
   "cell_type": "code",
   "execution_count": 32,
   "id": "5de61a34-7291-46f5-abed-0f1e1fc5c165",
   "metadata": {},
   "outputs": [
    {
     "name": "stdout",
     "output_type": "stream",
     "text": [
      "2D array: \n",
      " [[1 2]\n",
      " [3 4]\n",
      " [5 6]]\n",
      "Arithmetic sequence: \n",
      " [1.  2.5 4.  5.5 7.  8.5]\n",
      "Arithmetic sequence v2: \n",
      " [ 0.   2.5  5.   7.5 10. ]\n",
      "Generate sequence of constants: \n",
      " [[9.9 9.9 9.9 9.9 9.9 9.9 9.9 9.9 9.9]\n",
      " [9.9 9.9 9.9 9.9 9.9 9.9 9.9 9.9 9.9]\n",
      " [9.9 9.9 9.9 9.9 9.9 9.9 9.9 9.9 9.9]]\n",
      "Generate random numbers from 0 to 1: \n",
      " [[0.96238432 0.69422036 0.44226615 0.02448785 0.07069067]\n",
      " [0.7940371  0.60528839 0.50772913 0.13890398 0.55663346]\n",
      " [0.57006236 0.05038574 0.58028586 0.84061497 0.97075989]]\n"
     ]
    }
   ],
   "source": [
    "print(\"2D array: \\n\", np.array([[1, 2], [3, 4], [5, 6]]))\n",
    "print(\"Arithmetic sequence: \\n\", np.arange(1, 10, 1.5))\n",
    "print(\"Arithmetic sequence v2: \\n\", np.linspace(0, 10, 5))\n",
    "print(\"Generate sequence of constants: \\n\", np.full((3, 9), 9.9))\n",
    "# Set random seed for reproductivity\n",
    "np.random.seed(8888)\n",
    "print(\"Generate random numbers from 0 to 1: \\n\", np.random.rand(3, 5))\n",
    "\n",
    "# Uncomment the following line to see all the accessible \n",
    "#  methods and attributes for NumPy N-d array\n",
    "#print(dir(np.ndarray))"
   ]
  },
  {
   "cell_type": "markdown",
   "id": "67832735-45b8-4e40-890a-713e821fbc14",
   "metadata": {},
   "source": [
    "- We can access the shapes of NumPy arrays with `.shape`:"
   ]
  },
  {
   "cell_type": "code",
   "execution_count": 38,
   "id": "ff9133be-ee13-4052-b755-3ee3055ba84c",
   "metadata": {},
   "outputs": [
    {
     "name": "stdout",
     "output_type": "stream",
     "text": [
      "[[1. 1. 1. 1. 1.]\n",
      " [1. 1. 1. 1. 1.]\n",
      " [1. 1. 1. 1. 1.]]\n",
      "Number of dimensions:  2\n",
      "Shape of the array:  (3, 5)\n",
      "Number of elements:  15\n"
     ]
    }
   ],
   "source": [
    "numpy_array = np.ones((3, 5))\n",
    "print(numpy_array)\n",
    "print(\"Number of dimensions: \", numpy_array.ndim)\n",
    "print(\"Shape of the array: \", numpy_array.shape)\n",
    "print(\"Number of elements: \", numpy_array.size)"
   ]
  },
  {
   "cell_type": "markdown",
   "id": "410ea890-3f41-4937-9ae4-307ec9395849",
   "metadata": {},
   "source": [
    "- NumPy 1-D array can have three different forms:"
   ]
  },
  {
   "cell_type": "code",
   "execution_count": 45,
   "id": "2990f805-60bb-492f-b232-44afcab3e1d0",
   "metadata": {},
   "outputs": [
    {
     "name": "stdout",
     "output_type": "stream",
     "text": [
      "Compare each element: [[ True  True  True  True  True]]\n",
      "Compare the whole array: False\n"
     ]
    }
   ],
   "source": [
    "ones1 = np.ones(5)\n",
    "ones2 = np.ones((1, 5))\n",
    "ones3 = np.ones((5, 1))\n",
    "print(\"Compare each element:\", ones1 == ones2)\n",
    "print(\"Compare the whole array:\", np.array_equal(ones1, ones2))"
   ]
  },
  {
   "cell_type": "markdown",
   "id": "e68a3c28-d5b9-4f92-a967-168aa978aaac",
   "metadata": {},
   "source": [
    "- We can perform some basic element-wise operations on NumPy arrays:"
   ]
  },
  {
   "cell_type": "code",
   "execution_count": 50,
   "id": "70a8f142-b576-43c0-83cb-a4664b94dfad",
   "metadata": {},
   "outputs": [
    {
     "name": "stdout",
     "output_type": "stream",
     "text": [
      "[2. 2. 2. 2. 2.]\n",
      "[[0. 0. 0. 0. 0.]]\n",
      "[[1. 1. 1. 1. 1.]\n",
      " [1. 1. 1. 1. 1.]\n",
      " [1. 1. 1. 1. 1.]\n",
      " [1. 1. 1. 1. 1.]\n",
      " [1. 1. 1. 1. 1.]]\n"
     ]
    }
   ],
   "source": [
    "print(ones1 + 1)\n",
    "print(ones1 - ones2)\n",
    "print(ones2 * ones3)"
   ]
  },
  {
   "cell_type": "markdown",
   "id": "4ec995d9-210f-4fc5-acc2-e8eedd46c879",
   "metadata": {},
   "source": [
    "- More importantly, NumPy array has the **broadcasting** feature"
   ]
  },
  {
   "cell_type": "code",
   "execution_count": 54,
   "id": "738e29a6-2d3f-4ebc-a971-fe29e3d9d0ef",
   "metadata": {},
   "outputs": [
    {
     "name": "stdout",
     "output_type": "stream",
     "text": [
      "Cost matrix:\n",
      " [20 15 25]\n",
      "Sales matrix:\n",
      " [[2 3 1]\n",
      " [6 3 3]\n",
      " [5 3 5]]\n"
     ]
    }
   ],
   "source": [
    "cost = np.array([20, 15, 25])\n",
    "sales = np.array([\n",
    "    [2, 3, 1],\n",
    "    [6, 3, 3],\n",
    "    [5, 3, 5]\n",
    "])\n",
    "print(\"Cost matrix:\\n\", cost)\n",
    "print(\"Sales matrix:\\n\", sales)"
   ]
  },
  {
   "cell_type": "code",
   "execution_count": 62,
   "id": "68763f2e-72dc-4d50-b00c-d5a472acf19f",
   "metadata": {},
   "outputs": [
    {
     "name": "stdout",
     "output_type": "stream",
     "text": [
      "[[ 40  45  25]\n",
      " [120  45  75]\n",
      " [100  45 125]]\n",
      "[[ 40  60  20]\n",
      " [ 90  45  45]\n",
      " [125  75 125]]\n",
      "[[ 40  60  20]\n",
      " [ 90  45  45]\n",
      " [125  75 125]]\n"
     ]
    }
   ],
   "source": [
    "# Row by row multiplication (unexpected)\n",
    "print(cost * sales)\n",
    "# Row by column multiplication (expected)\n",
    "print(cost.reshape(3, 1).repeat(3, axis=1) * sales)\n",
    "# Row by column multiplication (NumPy handles it with broadcasting)\n",
    "print(cost.reshape(3, 1) * sales)"
   ]
  },
  {
   "cell_type": "code",
   "execution_count": 64,
   "id": "40aff5a7-a94b-4551-8521-ea061fbfaf68",
   "metadata": {},
   "outputs": [
    {
     "name": "stdout",
     "output_type": "stream",
     "text": [
      "Broadcasting is 3.60x faster than looping in our example.\n"
     ]
    }
   ],
   "source": [
    "total = np.zeros((3, 3))\n",
    "time_loop = %timeit -q -o -r 3 for col in range(sales.shape[1]): total[:, col] = sales[:, col] * np.squeeze(cost)\n",
    "time_vec = %timeit -q -o -r 3 cost.reshape(3, 1) * sales\n",
    "print(f\"Broadcasting is {time_loop.average / time_vec.average:.2f}x faster than looping in our example.\")"
   ]
  },
  {
   "cell_type": "markdown",
   "id": "b067eece-19b2-492d-8544-3eca40a15f52",
   "metadata": {},
   "source": [
    "- Note that not all the arrays are compatible for broadcasting:\n",
    "   - Dimensions are compatible if _they are equal_, or _one of the dimensions is 1_\n",
    "- NumPy checks for dimensional compatibility by starting from the right-most dimension.\n",
    "\n",
    "```\n",
    "Broadcastable:\n",
    "A      (3d array): 256 x 256 x 3\n",
    "B      (1d array):             3\n",
    "Result (3d array): 256 x 256 x 3\n",
    "\n",
    "A      (4d array): 8 x 1 x 6 x 1\n",
    "B      (3d array):     7 x 1 x 5\n",
    "Result (4d array): 8 x 7 x 6 x 5\n",
    "```"
   ]
  },
  {
   "cell_type": "markdown",
   "id": "8136c842-c8bf-4eb7-9098-d96be8df0d6e",
   "metadata": {},
   "source": [
    "- Reshaping the arrays in NumPy mainly counts on the following methods\n",
    "    - `.reshape()` to change the shape of the existing array\n",
    "    - `np.newaxis()` to add a new axis (usually for broadcasting)\n",
    "    - `.ravel()` or `.flatten()` to return a flatten copy of the array"
   ]
  },
  {
   "cell_type": "code",
   "execution_count": 78,
   "id": "ce151067-ce47-492f-bb81-d51eac78f319",
   "metadata": {},
   "outputs": [
    {
     "name": "stdout",
     "output_type": "stream",
     "text": [
      "[[ 1  2  3]\n",
      " [ 4  5  6]\n",
      " [ 7  8  9]\n",
      " [10 11 12]\n",
      " [13 14 15]]\n",
      "[[ 1  2  3  4  5]\n",
      " [ 6  7  8  9 10]\n",
      " [11 12 13 14 15]]\n",
      "[[ 1  2  3  4  5  6  7  8  9 10 11 12 13 14 15]]\n",
      "[[ 1  4  7 10 13  2  5  8 11 14  3  6  9 12 15]]\n"
     ]
    }
   ],
   "source": [
    "numpy_array = np.array([[1, 2, 3], [4, 5, 6], [7, 8, 9], \n",
    "                        [10, 11, 12], [13, 14, 15]])\n",
    "print(numpy_array)\n",
    "print(numpy_array.reshape(3, 5))\n",
    "# We can leave one unknown for it to automatically figure out\n",
    "print(numpy_array.reshape(1, -1))\n",
    "# We can set order to be false to get column-major reshaping\n",
    "print(numpy_array.reshape(1, -1, order='F'))"
   ]
  },
  {
   "cell_type": "code",
   "execution_count": 95,
   "id": "94b3d50e-c8e1-40ae-a849-f96a2f7570e1",
   "metadata": {},
   "outputs": [
    {
     "name": "stdout",
     "output_type": "stream",
     "text": [
      "[[[ 2.  2.]\n",
      "  [ 3.  3.]\n",
      "  [ 4.  4.]]\n",
      "\n",
      " [[ 5.  5.]\n",
      "  [ 6.  6.]\n",
      "  [ 7.  7.]]\n",
      "\n",
      " [[ 8.  8.]\n",
      "  [ 9.  9.]\n",
      "  [10. 10.]]\n",
      "\n",
      " [[11. 11.]\n",
      "  [12. 12.]\n",
      "  [13. 13.]]\n",
      "\n",
      " [[14. 14.]\n",
      "  [15. 15.]\n",
      "  [16. 16.]]]\n"
     ]
    }
   ],
   "source": [
    "try:\n",
    "    print(numpy_array + np.ones((5, 3, 2)))\n",
    "except:\n",
    "    # The commented lines would be the same\n",
    "    #   as the None is the alias of np.newaxis here\n",
    "    #   and we can add extra dimension with reshape as well\n",
    "    print(numpy_array[:, :, np.newaxis] + np.ones((5, 3, 2)))\n",
    "    #print(numpy_array[:, :, None] + np.ones((5, 3, 2)))\n",
    "    #print(numpy_array.reshape(5, 3, -1) + np.ones((5, 3, 2)))"
   ]
  },
  {
   "cell_type": "code",
   "execution_count": 98,
   "id": "43e0c0c9-cb81-4c17-a7bf-6d7cb8db1d15",
   "metadata": {},
   "outputs": [
    {
     "data": {
      "text/plain": [
       "array([ 1,  2,  3,  4,  5,  6,  7,  8,  9, 10, 11, 12, 13, 14, 15])"
      ]
     },
     "execution_count": 98,
     "metadata": {},
     "output_type": "execute_result"
    }
   ],
   "source": [
    "numpy_array.flatten()\n",
    "numpy_array.ravel()"
   ]
  },
  {
   "cell_type": "markdown",
   "id": "34b57b61-326c-488d-a561-2afa05aedf65",
   "metadata": {},
   "source": [
    "## Indexing and Slicing\n",
    "\n",
    "(TODO): pretty much similar to Python lists"
   ]
  },
  {
   "cell_type": "markdown",
   "id": "d7b34b6f-bd90-422c-b830-0cb25f9d4e7c",
   "metadata": {},
   "source": [
    "## Vectorization\n",
    "\n",
    "- Since NumPy is implemented with C, avoid using Python loops and use build-in functions for NumPy arrays would be faster and more efficient"
   ]
  },
  {
   "cell_type": "code",
   "execution_count": 99,
   "id": "ff0f4344-0c94-4315-8c25-0399ebad3c0f",
   "metadata": {},
   "outputs": [
    {
     "name": "stdout",
     "output_type": "stream",
     "text": [
      "Vectorized operation is 23.20x faster than looping here.\n"
     ]
    }
   ],
   "source": [
    "# loop method\n",
    "array = np.array(range(50))\n",
    "time_loop = %timeit -q -o -r 3 for i, element in enumerate(array): array[i] = element ** 2\n",
    "# vectorized method\n",
    "array = np.array(range(50))\n",
    "time_vec = %timeit -q -o -r 3 array ** 2\n",
    "print(f\"Vectorized operation is {time_loop.average / time_vec.average:.2f}x faster than looping here.\")"
   ]
  },
  {
   "cell_type": "markdown",
   "id": "a0d04455-540b-4f79-83ad-07d8f493e4f6",
   "metadata": {},
   "source": [
    "## (Optional) Advanced NumPy\n",
    "- (TODO)Array Data Type\n",
    "- (TODO)Memory Layout and Strides -- why NumPy is so great?"
   ]
  },
  {
   "cell_type": "markdown",
   "id": "419ab531-7603-433f-81fd-cd7e61930ae0",
   "metadata": {},
   "source": [
    "## Practices\n",
    "\n",
    "(TODO) Practice on the existing questions"
   ]
  },
  {
   "cell_type": "markdown",
   "id": "1964fbe6-c48f-432b-99f7-84e1c670c697",
   "metadata": {},
   "source": [
    "## Reference\n",
    "\n",
    "- Credits to UBC MDS DSCI 511, as most of the content were adapted from the course materials."
   ]
  }
 ],
 "metadata": {
  "kernelspec": {
   "display_name": "Python [conda env:dstools]",
   "language": "python",
   "name": "conda-env-dstools-py"
  },
  "language_info": {
   "codemirror_mode": {
    "name": "ipython",
    "version": 3
   },
   "file_extension": ".py",
   "mimetype": "text/x-python",
   "name": "python",
   "nbconvert_exporter": "python",
   "pygments_lexer": "ipython3",
   "version": "3.9.12"
  },
  "widgets": {
   "application/vnd.jupyter.widget-state+json": {
    "state": {},
    "version_major": 2,
    "version_minor": 0
   }
  }
 },
 "nbformat": 4,
 "nbformat_minor": 5
}
