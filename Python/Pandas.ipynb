{
 "cells": [
  {
   "cell_type": "markdown",
   "id": "907f918a-0126-4020-86ed-af6c4ea04cba",
   "metadata": {},
   "source": [
    "# Pandas\n",
    "\n",
    "<div>\n",
    "<img src=\"../images/pandas.jpg\" width=\"300\"/>\n",
    "</div>"
   ]
  },
  {
   "cell_type": "markdown",
   "id": "6be2a2a9-e70e-4e3b-bd23-ad7a81a26a5f",
   "metadata": {},
   "source": [
    "## TODO: Add more intro level part of pandas here"
   ]
  },
  {
   "cell_type": "markdown",
   "id": "ec3fe91c-1c55-478d-98bb-b8f6d76e3655",
   "metadata": {},
   "source": []
  },
  {
   "cell_type": "markdown",
   "id": "f0075454-accc-41df-a85b-8cc34adb5af8",
   "metadata": {},
   "source": []
  },
  {
   "cell_type": "markdown",
   "id": "299a4f79-19f4-4baa-bbf3-590e283e47c8",
   "metadata": {},
   "source": []
  },
  {
   "cell_type": "markdown",
   "id": "b1f60793-d4d5-4ce9-a7ee-9235acb57ab8",
   "metadata": {},
   "source": []
  },
  {
   "cell_type": "markdown",
   "id": "b554efd9-5a52-4a43-bff2-f1740bcccf58",
   "metadata": {},
   "source": [
    "# Coding Practice (How-To)"
   ]
  },
  {
   "cell_type": "code",
   "execution_count": 1,
   "id": "09a2643b-94d6-4a9e-8a65-55722a714aa9",
   "metadata": {},
   "outputs": [],
   "source": [
    "# import pandas package\n",
    "import numpy as np"
   ]
  },
  {
   "cell_type": "code",
   "execution_count": null,
   "id": "09146a44-a5a1-45cf-b96a-141aa587098b",
   "metadata": {},
   "outputs": [],
   "source": []
  }
 ],
 "metadata": {
  "kernelspec": {
   "display_name": "Python [conda env:dstools]",
   "language": "python",
   "name": "conda-env-dstools-py"
  },
  "language_info": {
   "codemirror_mode": {
    "name": "ipython",
    "version": 3
   },
   "file_extension": ".py",
   "mimetype": "text/x-python",
   "name": "python",
   "nbconvert_exporter": "python",
   "pygments_lexer": "ipython3",
   "version": "3.9.12"
  },
  "widgets": {
   "application/vnd.jupyter.widget-state+json": {
    "state": {},
    "version_major": 2,
    "version_minor": 0
   }
  }
 },
 "nbformat": 4,
 "nbformat_minor": 5
}
