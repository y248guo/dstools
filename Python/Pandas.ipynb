{
 "cells": [
  {
   "cell_type": "markdown",
   "id": "907f918a-0126-4020-86ed-af6c4ea04cba",
   "metadata": {},
   "source": [
    "# Pandas\n",
    "\n",
    "<div>\n",
    "<img src=\"../images/pandas.jpg\" width=\"300\"/>\n",
    "</div>"
   ]
  },
  {
   "cell_type": "markdown",
   "id": "6be2a2a9-e70e-4e3b-bd23-ad7a81a26a5f",
   "metadata": {},
   "source": [
    "## TODO: Add more intro level part of pandas here"
   ]
  },
  {
   "cell_type": "markdown",
   "id": "ec3fe91c-1c55-478d-98bb-b8f6d76e3655",
   "metadata": {},
   "source": []
  },
  {
   "cell_type": "markdown",
   "id": "f0075454-accc-41df-a85b-8cc34adb5af8",
   "metadata": {},
   "source": []
  },
  {
   "cell_type": "markdown",
   "id": "299a4f79-19f4-4baa-bbf3-590e283e47c8",
   "metadata": {},
   "source": []
  },
  {
   "cell_type": "markdown",
   "id": "b1f60793-d4d5-4ce9-a7ee-9235acb57ab8",
   "metadata": {},
   "source": []
  },
  {
   "cell_type": "markdown",
   "id": "b554efd9-5a52-4a43-bff2-f1740bcccf58",
   "metadata": {},
   "source": [
    "# Coding Practice (How-To)"
   ]
  },
  {
   "cell_type": "code",
   "execution_count": 1,
   "id": "09a2643b-94d6-4a9e-8a65-55722a714aa9",
   "metadata": {},
   "outputs": [
    {
     "ename": "ImportError",
     "evalue": "\n\nIMPORTANT: PLEASE READ THIS FOR ADVICE ON HOW TO SOLVE THIS ISSUE!\n\nImporting the numpy C-extensions failed. This error can happen for\nmany reasons, often due to issues with your setup or how NumPy was\ninstalled.\n\nWe have compiled some common reasons and troubleshooting tips at:\n\n    https://numpy.org/devdocs/user/troubleshooting-importerror.html\n\nPlease note and check the following:\n\n  * The Python version is: Python3.9 from \"/Users/sg/opt/miniconda3/bin/python\"\n  * The NumPy version is: \"1.21.5\"\n\nand make sure that they are the versions you expect.\nPlease carefully study the documentation linked above for further help.\n\nOriginal error was: dlopen(/Users/sg/opt/miniconda3/lib/python3.9/site-packages/numpy/core/_multiarray_umath.cpython-39-darwin.so, 0x0002): Library not loaded: @rpath/libopenblas.dylib\n  Referenced from: /Users/sg/opt/miniconda3/lib/python3.9/site-packages/numpy/core/_multiarray_umath.cpython-39-darwin.so\n  Reason: tried: '/Users/sg/opt/miniconda3/lib/libopenblas.dylib' (no such file), '/Users/sg/opt/miniconda3/lib/libopenblas.dylib' (no such file), '/Users/sg/opt/miniconda3/lib/python3.9/site-packages/numpy/core/../../../../libopenblas.dylib' (no such file), '/Users/sg/opt/miniconda3/lib/libopenblas.dylib' (no such file), '/Users/sg/opt/miniconda3/lib/libopenblas.dylib' (no such file), '/Users/sg/opt/miniconda3/lib/python3.9/site-packages/numpy/core/../../../../libopenblas.dylib' (no such file), '/Users/sg/opt/miniconda3/lib/libopenblas.dylib' (no such file), '/Users/sg/opt/miniconda3/bin/../lib/libopenblas.dylib' (no such file), '/Users/sg/opt/miniconda3/lib/libopenblas.dylib' (no such file), '/Users/sg/opt/miniconda3/bin/../lib/libopenblas.dylib' (no such file), '/usr/local/lib/libopenblas.dylib' (no such file), '/usr/lib/libopenblas.dylib' (no such file)\n",
     "output_type": "error",
     "traceback": [
      "\u001b[0;31m---------------------------------------------------------------------------\u001b[0m",
      "\u001b[0;31mImportError\u001b[0m                               Traceback (most recent call last)",
      "\u001b[0;32m~/opt/miniconda3/lib/python3.9/site-packages/numpy/core/__init__.py\u001b[0m in \u001b[0;36m<module>\u001b[0;34m\u001b[0m\n\u001b[1;32m     21\u001b[0m \u001b[0;32mtry\u001b[0m\u001b[0;34m:\u001b[0m\u001b[0;34m\u001b[0m\u001b[0;34m\u001b[0m\u001b[0m\n\u001b[0;32m---> 22\u001b[0;31m     \u001b[0;32mfrom\u001b[0m \u001b[0;34m.\u001b[0m \u001b[0;32mimport\u001b[0m \u001b[0mmultiarray\u001b[0m\u001b[0;34m\u001b[0m\u001b[0;34m\u001b[0m\u001b[0m\n\u001b[0m\u001b[1;32m     23\u001b[0m \u001b[0;32mexcept\u001b[0m \u001b[0mImportError\u001b[0m \u001b[0;32mas\u001b[0m \u001b[0mexc\u001b[0m\u001b[0;34m:\u001b[0m\u001b[0;34m\u001b[0m\u001b[0;34m\u001b[0m\u001b[0m\n",
      "\u001b[0;32m~/opt/miniconda3/lib/python3.9/site-packages/numpy/core/multiarray.py\u001b[0m in \u001b[0;36m<module>\u001b[0;34m\u001b[0m\n\u001b[1;32m     11\u001b[0m \u001b[0;34m\u001b[0m\u001b[0m\n\u001b[0;32m---> 12\u001b[0;31m \u001b[0;32mfrom\u001b[0m \u001b[0;34m.\u001b[0m \u001b[0;32mimport\u001b[0m \u001b[0moverrides\u001b[0m\u001b[0;34m\u001b[0m\u001b[0;34m\u001b[0m\u001b[0m\n\u001b[0m\u001b[1;32m     13\u001b[0m \u001b[0;32mfrom\u001b[0m \u001b[0;34m.\u001b[0m \u001b[0;32mimport\u001b[0m \u001b[0m_multiarray_umath\u001b[0m\u001b[0;34m\u001b[0m\u001b[0;34m\u001b[0m\u001b[0m\n",
      "\u001b[0;32m~/opt/miniconda3/lib/python3.9/site-packages/numpy/core/overrides.py\u001b[0m in \u001b[0;36m<module>\u001b[0;34m\u001b[0m\n\u001b[1;32m      6\u001b[0m \u001b[0;34m\u001b[0m\u001b[0m\n\u001b[0;32m----> 7\u001b[0;31m from numpy.core._multiarray_umath import (\n\u001b[0m\u001b[1;32m      8\u001b[0m     add_docstring, implement_array_function, _get_implementing_args)\n",
      "\u001b[0;31mImportError\u001b[0m: dlopen(/Users/sg/opt/miniconda3/lib/python3.9/site-packages/numpy/core/_multiarray_umath.cpython-39-darwin.so, 0x0002): Library not loaded: @rpath/libopenblas.dylib\n  Referenced from: /Users/sg/opt/miniconda3/lib/python3.9/site-packages/numpy/core/_multiarray_umath.cpython-39-darwin.so\n  Reason: tried: '/Users/sg/opt/miniconda3/lib/libopenblas.dylib' (no such file), '/Users/sg/opt/miniconda3/lib/libopenblas.dylib' (no such file), '/Users/sg/opt/miniconda3/lib/python3.9/site-packages/numpy/core/../../../../libopenblas.dylib' (no such file), '/Users/sg/opt/miniconda3/lib/libopenblas.dylib' (no such file), '/Users/sg/opt/miniconda3/lib/libopenblas.dylib' (no such file), '/Users/sg/opt/miniconda3/lib/python3.9/site-packages/numpy/core/../../../../libopenblas.dylib' (no such file), '/Users/sg/opt/miniconda3/lib/libopenblas.dylib' (no such file), '/Users/sg/opt/miniconda3/bin/../lib/libopenblas.dylib' (no such file), '/Users/sg/opt/miniconda3/lib/libopenblas.dylib' (no such file), '/Users/sg/opt/miniconda3/bin/../lib/libopenblas.dylib' (no such file), '/usr/local/lib/libopenblas.dylib' (no such file), '/usr/lib/libopenblas.dylib' (no such file)",
      "\nDuring handling of the above exception, another exception occurred:\n",
      "\u001b[0;31mImportError\u001b[0m                               Traceback (most recent call last)",
      "\u001b[0;32m/var/folders/z_/t5bc9_416bb9j3fdgm2ychlw0000gn/T/ipykernel_35221/494852394.py\u001b[0m in \u001b[0;36m<module>\u001b[0;34m\u001b[0m\n\u001b[1;32m      1\u001b[0m \u001b[0;31m# import pandas package\u001b[0m\u001b[0;34m\u001b[0m\u001b[0;34m\u001b[0m\u001b[0;34m\u001b[0m\u001b[0m\n\u001b[0;32m----> 2\u001b[0;31m \u001b[0;32mimport\u001b[0m \u001b[0mnumpy\u001b[0m \u001b[0;32mas\u001b[0m \u001b[0mnp\u001b[0m\u001b[0;34m\u001b[0m\u001b[0;34m\u001b[0m\u001b[0m\n\u001b[0m",
      "\u001b[0;32m~/opt/miniconda3/lib/python3.9/site-packages/numpy/__init__.py\u001b[0m in \u001b[0;36m<module>\u001b[0;34m\u001b[0m\n\u001b[1;32m    148\u001b[0m     \u001b[0;32mfrom\u001b[0m \u001b[0;34m.\u001b[0m \u001b[0;32mimport\u001b[0m \u001b[0m_distributor_init\u001b[0m\u001b[0;34m\u001b[0m\u001b[0;34m\u001b[0m\u001b[0m\n\u001b[1;32m    149\u001b[0m \u001b[0;34m\u001b[0m\u001b[0m\n\u001b[0;32m--> 150\u001b[0;31m     \u001b[0;32mfrom\u001b[0m \u001b[0;34m.\u001b[0m \u001b[0;32mimport\u001b[0m \u001b[0mcore\u001b[0m\u001b[0;34m\u001b[0m\u001b[0;34m\u001b[0m\u001b[0m\n\u001b[0m\u001b[1;32m    151\u001b[0m     \u001b[0;32mfrom\u001b[0m \u001b[0;34m.\u001b[0m\u001b[0mcore\u001b[0m \u001b[0;32mimport\u001b[0m \u001b[0;34m*\u001b[0m\u001b[0;34m\u001b[0m\u001b[0;34m\u001b[0m\u001b[0m\n\u001b[1;32m    152\u001b[0m     \u001b[0;32mfrom\u001b[0m \u001b[0;34m.\u001b[0m \u001b[0;32mimport\u001b[0m \u001b[0mcompat\u001b[0m\u001b[0;34m\u001b[0m\u001b[0;34m\u001b[0m\u001b[0m\n",
      "\u001b[0;32m~/opt/miniconda3/lib/python3.9/site-packages/numpy/core/__init__.py\u001b[0m in \u001b[0;36m<module>\u001b[0;34m\u001b[0m\n\u001b[1;32m     46\u001b[0m \"\"\" % (sys.version_info[0], sys.version_info[1], sys.executable,\n\u001b[1;32m     47\u001b[0m         __version__, exc)\n\u001b[0;32m---> 48\u001b[0;31m     \u001b[0;32mraise\u001b[0m \u001b[0mImportError\u001b[0m\u001b[0;34m(\u001b[0m\u001b[0mmsg\u001b[0m\u001b[0;34m)\u001b[0m\u001b[0;34m\u001b[0m\u001b[0;34m\u001b[0m\u001b[0m\n\u001b[0m\u001b[1;32m     49\u001b[0m \u001b[0;32mfinally\u001b[0m\u001b[0;34m:\u001b[0m\u001b[0;34m\u001b[0m\u001b[0;34m\u001b[0m\u001b[0m\n\u001b[1;32m     50\u001b[0m     \u001b[0;32mfor\u001b[0m \u001b[0menvkey\u001b[0m \u001b[0;32min\u001b[0m \u001b[0menv_added\u001b[0m\u001b[0;34m:\u001b[0m\u001b[0;34m\u001b[0m\u001b[0;34m\u001b[0m\u001b[0m\n",
      "\u001b[0;31mImportError\u001b[0m: \n\nIMPORTANT: PLEASE READ THIS FOR ADVICE ON HOW TO SOLVE THIS ISSUE!\n\nImporting the numpy C-extensions failed. This error can happen for\nmany reasons, often due to issues with your setup or how NumPy was\ninstalled.\n\nWe have compiled some common reasons and troubleshooting tips at:\n\n    https://numpy.org/devdocs/user/troubleshooting-importerror.html\n\nPlease note and check the following:\n\n  * The Python version is: Python3.9 from \"/Users/sg/opt/miniconda3/bin/python\"\n  * The NumPy version is: \"1.21.5\"\n\nand make sure that they are the versions you expect.\nPlease carefully study the documentation linked above for further help.\n\nOriginal error was: dlopen(/Users/sg/opt/miniconda3/lib/python3.9/site-packages/numpy/core/_multiarray_umath.cpython-39-darwin.so, 0x0002): Library not loaded: @rpath/libopenblas.dylib\n  Referenced from: /Users/sg/opt/miniconda3/lib/python3.9/site-packages/numpy/core/_multiarray_umath.cpython-39-darwin.so\n  Reason: tried: '/Users/sg/opt/miniconda3/lib/libopenblas.dylib' (no such file), '/Users/sg/opt/miniconda3/lib/libopenblas.dylib' (no such file), '/Users/sg/opt/miniconda3/lib/python3.9/site-packages/numpy/core/../../../../libopenblas.dylib' (no such file), '/Users/sg/opt/miniconda3/lib/libopenblas.dylib' (no such file), '/Users/sg/opt/miniconda3/lib/libopenblas.dylib' (no such file), '/Users/sg/opt/miniconda3/lib/python3.9/site-packages/numpy/core/../../../../libopenblas.dylib' (no such file), '/Users/sg/opt/miniconda3/lib/libopenblas.dylib' (no such file), '/Users/sg/opt/miniconda3/bin/../lib/libopenblas.dylib' (no such file), '/Users/sg/opt/miniconda3/lib/libopenblas.dylib' (no such file), '/Users/sg/opt/miniconda3/bin/../lib/libopenblas.dylib' (no such file), '/usr/local/lib/libopenblas.dylib' (no such file), '/usr/lib/libopenblas.dylib' (no such file)\n"
     ]
    }
   ],
   "source": [
    "# import pandas package\n",
    "import numpy as np"
   ]
  },
  {
   "cell_type": "code",
   "execution_count": null,
   "id": "09146a44-a5a1-45cf-b96a-141aa587098b",
   "metadata": {},
   "outputs": [],
   "source": []
  }
 ],
 "metadata": {
  "kernelspec": {
   "display_name": "Python 3 (ipykernel)",
   "language": "python",
   "name": "python3"
  },
  "language_info": {
   "codemirror_mode": {
    "name": "ipython",
    "version": 3
   },
   "file_extension": ".py",
   "mimetype": "text/x-python",
   "name": "python",
   "nbconvert_exporter": "python",
   "pygments_lexer": "ipython3",
   "version": "3.9.5"
  },
  "widgets": {
   "application/vnd.jupyter.widget-state+json": {
    "state": {},
    "version_major": 2,
    "version_minor": 0
   }
  }
 },
 "nbformat": 4,
 "nbformat_minor": 5
}
