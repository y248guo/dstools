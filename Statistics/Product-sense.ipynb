{
 "cells": [
  {
   "cell_type": "markdown",
   "id": "d982b0fa-6ba9-4e8e-a34d-ee2dc73a1a1b",
   "metadata": {},
   "source": [
    "# Product Sense Problems\n",
    "\n",
    "- This notebook focus on the product sense/metric/business case problems"
   ]
  },
  {
   "cell_type": "markdown",
   "id": "92d07a7b-8964-4cc8-83f9-becbb7c251f3",
   "metadata": {},
   "source": [
    "## Diagnose a problem\n",
    "\n",
    "- Given a scenario that one of the important metrics has shifted to the negative direction, figure out the root cause of the issue\n",
    "- Examples: \"Creation of Facebook user groups has gone down by 20%, what will you do?\"; \"In Lyft, we have a dashboard tracking our metrics, and average ETA is up by 3 minutes. How would you investigate this problem?\"; \"How to investigate the 10% drop of the friends application?\""
   ]
  },
  {
   "cell_type": "markdown",
   "id": "5315855a-4efe-4b8b-bb96-80def8a929cd",
   "metadata": {},
   "source": [
    "### Framework\n",
    "- Clarify the scenario/metric\n",
    "    - e.g. ETA question, how start and end time are defined, is start time at request or at pickup?\n",
    "- Time - sudden or stable?\n",
    "    - Internal - Data source? Data collection? Bug?\n",
    "    - External - Seasonality? Industry trend? Competitors? Special event? Natural disaster?\n",
    "- Other product/feature by the same company?\n",
    "    - Have we made any changes to our product line?\n",
    "    - Have other related products experienced the same change?\n",
    "- Segment by user demographic and behavioral features\n",
    "    - Regions\n",
    "    - Languages\n",
    "    - Platforms, i.e. iOS, Android, Web etc.\n",
    "- Decompose the metric (optional)\n",
    "    - e.g. Daily Active User (DAU) = Existing users + New users + Resurrected users - Churned users\n",
    "- Summarize overall approach\n",
    "    - Most reasonable causes\n",
    "    - How to fix"
   ]
  },
  {
   "cell_type": "markdown",
   "id": "adcc9e8f-b07b-4f3c-8c1b-4b7f7c230b83",
   "metadata": {},
   "source": [
    "## Measure success\n",
    "- You are asked to measure the success/health of a product/feature\n",
    "- Examples: \"How would you measure the success of a product?\", \"How would you measure the health of Mentions, Facebook's app for celebrities? How can FB determine if it's worth it to keep using it?\", \"Instagram launching a new feature (link to products). How do you tell it is doing well?\""
   ]
  },
  {
   "cell_type": "markdown",
   "id": "0b081644-101b-4dfd-a6ff-202d5277454e",
   "metadata": {},
   "source": [
    "### Framework\n",
    "- Clarify function and goal of the product/feature\n",
    "    - What it does? How is it used? Who is it for?\n",
    "    - **Important**: always clarify the question before answering it\n",
    "- Define metrics (no more than 3)\n",
    "    - **2 Success** metrics to measure the success\n",
    "        - e.g. daily active users, number of bookings and conversion rate\n",
    "    - **1 Guardrail** metric, should not degrade in pursuit of a new product/feature\n",
    "        - e.g. cancellation rate and bounce rate\n",
    "    - Good metrics should fit the context\n",
    "        - Q: how to measure the success of a new job recommendation algorithm during an interview, with the goal of this new algorithm being to increase user satisfaction of the recommendation results\n",
    "        - Success metrics: click through rate(CTR), percentage of users applied for a job (DAU would not be good here)\n",
    "        - Guardrail metric: average time it takes to return results"
   ]
  },
  {
   "cell_type": "markdown",
   "id": "44096bb4-8b96-41ca-af5a-7bbafef1853b",
   "metadata": {},
   "source": [
    "## Launch or not\n",
    "- You are asked to test a product idea or whether to launch a product/feature\n",
    "- Examples: \"How would you setup an experiment to understand feature change in Instagram stores? How would you decide to launch or not if engagement within a specific cohort decreased if all the rest increased?\", \"What would you change in Twitter app? How would you test if the proposed change is effective or not?\", \"If a PM says that they want to double the number of ads in Newsfeed, how would you figure out if this is a good idea or not?\"\n",
    "- To answer this type of question, always need to make a recommendation on whether to launch the product or not!"
   ]
  },
  {
   "cell_type": "markdown",
   "id": "40bda29c-63b0-45e4-a071-c7d4fcdcbb31",
   "metadata": {},
   "source": [
    "### Framework\n",
    "- Clarify goal and define metrics\n",
    "    - Similar to _Measure Success_\n",
    "- Experimentation\n",
    "    - How to design it?\n",
    "    - How to split the users?\n",
    "        - e.g. split the user randomly into control and treatment groups\n",
    "    - How long to run it?\n",
    "- Recommendation based on the experiment results\n",
    "    - Link results to the goal and business impact\n",
    "        - e.g. what does 0.1% increase in conversation rate translate to revenue?\n",
    "    - Conflicting results\n",
    "        - e.g. increase in DAU but also increase in bounce rate\n",
    "    - Short-term vs. long-term\n",
    "        - e.g. launch brings in more users to the platform, thus benefits may outweigh drawbacks"
   ]
  },
  {
   "cell_type": "markdown",
   "id": "d31922de-e9b9-416d-9e51-4fa6ebbaf9ca",
   "metadata": {},
   "source": [
    "# Credits & References\n",
    "- Credits:\n",
    "    - [Cracking Metric/Business Case/Product Sense Problems | Data Science Interview (YouTube)](https://youtu.be/nPJKFWMiIC8)\n",
    "    - [Data science case study interview questions and answers](https://www.projectpro.io/article/data-science-case-study-interview-questions-and-answers/557)"
   ]
  },
  {
   "cell_type": "markdown",
   "id": "e05a8cb0-6221-412c-bdb3-c70e1608cfd0",
   "metadata": {},
   "source": []
  }
 ],
 "metadata": {
  "kernelspec": {
   "display_name": "R",
   "language": "R",
   "name": "ir"
  },
  "language_info": {
   "codemirror_mode": "r",
   "file_extension": ".r",
   "mimetype": "text/x-r-source",
   "name": "R",
   "pygments_lexer": "r",
   "version": "4.1.2"
  },
  "widgets": {
   "application/vnd.jupyter.widget-state+json": {
    "state": {},
    "version_major": 2,
    "version_minor": 0
   }
  }
 },
 "nbformat": 4,
 "nbformat_minor": 5
}
