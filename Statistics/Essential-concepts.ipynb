{
 "cells": [
  {
   "cell_type": "markdown",
   "id": "dc7ab1c9-3b52-4c16-976c-79e7aa975604",
   "metadata": {},
   "source": [
    "# Essential Concepts for Statistics"
   ]
  },
  {
   "cell_type": "markdown",
   "id": "699d3e3e-0b47-4b1b-8dcd-429f7435a70d",
   "metadata": {},
   "source": [
    "## General framework\n",
    "\n",
    "- Where and when it is used?\n",
    "- Definition in simple English\n",
    "- When value changes\n",
    "- Application (optional)"
   ]
  },
  {
   "cell_type": "markdown",
   "id": "73efd998-fcf4-49ff-8c04-b73d3a30d151",
   "metadata": {},
   "source": [
    "## Power\n",
    "\n",
    "- Where and when it is used?\n",
    "    - Used in a binary hypothesis test\n",
    "- Definition in simple English\n",
    "    - Likelihood that a test will detect an effect\n",
    "    - When the effect is present\n",
    "    - P(reject Null | Alternative is true) or P(reject Null | Null is false)\n",
    "        - Power = 1 - Type II error\n",
    "- When value changes\n",
    "    - Higher the power, better the test\n",
    "- Application (optional)\n",
    "    - Experiment design: calculate the minimum sample size"
   ]
  },
  {
   "cell_type": "markdown",
   "id": "1ed883c7-3c65-47dc-82fe-c46d9ba25a1e",
   "metadata": {},
   "source": [
    "## Type I Error\n",
    "- Where and when it is used?\n",
    "    - Categorize errors in a binary hypothesis test\n",
    "- Definition in simple English\n",
    "    - Reject null hypothesis when it is true\n",
    "    - Conclude findings are significant, but in fact they occurred by chance\n",
    "    - P(reject Null | Null is true)\n",
    "- When value changes\n",
    "    - Higher the Type I error, less reliable a test is\n",
    "- Application (optional)\n",
    "    - Used in A/B testing: observe differences but there is no difference"
   ]
  },
  {
   "cell_type": "markdown",
   "id": "ac6e23bd-99b3-4e61-9824-042519560c99",
   "metadata": {},
   "source": [
    "## Type II Error\n",
    "- Where and when it is used?\n",
    "    - Categorize errors in a binary hypothesis test\n",
    "- Definition in simple English\n",
    "    - Fail to reject null hypothesis when it is false\n",
    "    - Conclude no significant effect, but in fact there is\n",
    "    - P(fail to reject Null | Null is false)\n",
    "- When value changes\n",
    "    - Higher the Type II error, less reliable a test is\n",
    "- Application (optional)\n",
    "    - Used in A/B testing: does not observe differences but there is a difference"
   ]
  },
  {
   "cell_type": "markdown",
   "id": "82777458-699d-4c53-94c9-9b73a82a88ad",
   "metadata": {},
   "source": [
    "## Confidence Interval\n",
    "- Where and when it is used?\n",
    "    - Want to know how variable a sample result is\n",
    "    - CI is used for estimating true value\n",
    "        - Note: true value is deterministic but unknown\n",
    "        - True value either in it or not\n",
    "        - Confidence level: how likely CI (estimated from samples) cover the true value\n",
    "            - e.g. draw 100 samples, with 95% level, CI is 95% likely to cover the true value\n",
    "- Definition in simple English\n",
    "    - An interval of numbers\n",
    "    - How likely it covers the true value\n",
    "    - P(CI covers the true value) = confidence level\n",
    "    - $$\\bar x \\pm z\\frac{s}{\\sqrt{n}}$$\n",
    "        - where $\\bar x$ is sample mean, $z$ is confidence level value, $s$ is sample standard deviation and $n$ is sample size\n",
    "- When value changes\n",
    "    - Wider CI, more uncertainty about the sample result\n",
    "        - Less data, wider CI\n",
    "        - Higher confidence level, wider CI\n",
    "        - Higher variation/s.d., wider CI\n",
    "- Application (optional)"
   ]
  },
  {
   "cell_type": "markdown",
   "id": "ecc285ec-f5f1-487f-bf86-980e86eebf7f",
   "metadata": {},
   "source": [
    "## P value\n",
    "- Where and when it is used?\n",
    "    - Commonly used in hypothesis testing\n",
    "    - Connect observation and conclusion\n",
    "- Definition in simple English\n",
    "    - Conditional probability\n",
    "    - P(results as extreme as observed results | Null is true)\n",
    "- When value changes\n",
    "    - Lower the p-value, less support of null hypothesis\n",
    "    - Often use 0.05 as cut-off in practice\n",
    "    - p-value < 0.05, reject null hypothesis, otherwise fail to reject (NEVER accept!)\n",
    "- Application (optional)"
   ]
  },
  {
   "cell_type": "markdown",
   "id": "aeae6d23-d833-476e-ae0b-ace262ff28bd",
   "metadata": {},
   "source": [
    "## Confusion Matrix\n",
    "\n",
    "![](../images/confusion_matrix.png)"
   ]
  },
  {
   "cell_type": "markdown",
   "id": "19165b7e-127d-42f9-8322-992c3306d43c",
   "metadata": {},
   "source": []
  },
  {
   "cell_type": "markdown",
   "id": "781285f9-38db-4763-9de9-883fde3ada60",
   "metadata": {},
   "source": []
  },
  {
   "cell_type": "markdown",
   "id": "023017a1-e1c4-4996-991f-f37096b6419e",
   "metadata": {},
   "source": []
  },
  {
   "cell_type": "markdown",
   "id": "57a6aa22-6f0e-4688-8873-8b26760a3560",
   "metadata": {},
   "source": []
  },
  {
   "cell_type": "markdown",
   "id": "8f2c572c-6ff7-42ed-aaa2-7cf74da0f9c0",
   "metadata": {},
   "source": []
  },
  {
   "cell_type": "markdown",
   "id": "6eb400ef-4211-4d35-bbc2-bc980bb5571b",
   "metadata": {},
   "source": []
  },
  {
   "cell_type": "markdown",
   "id": "8b60246a-ac9e-4b9f-9d5c-4140d28a04d8",
   "metadata": {},
   "source": [
    "# Credits & References\n",
    "\n",
    "- [5 Statistics Concepts in Data Science Interviews | Power, Errors, Confidence Interval, P value (YouTube)](https://youtu.be/Allap_hrjyo)\n",
    "- [40 Statistics Interview Problems](https://towardsdatascience.com/40-statistics-interview-problems-and-answers-for-data-scientists-6971a02b7eee)"
   ]
  },
  {
   "cell_type": "code",
   "execution_count": null,
   "id": "4f085fe0-a0c6-4b2f-bc1d-00405cfdf1b6",
   "metadata": {},
   "outputs": [],
   "source": []
  }
 ],
 "metadata": {
  "kernelspec": {
   "display_name": "R",
   "language": "R",
   "name": "ir"
  },
  "language_info": {
   "codemirror_mode": "r",
   "file_extension": ".r",
   "mimetype": "text/x-r-source",
   "name": "R",
   "pygments_lexer": "r",
   "version": "4.1.2"
  },
  "widgets": {
   "application/vnd.jupyter.widget-state+json": {
    "state": {},
    "version_major": 2,
    "version_minor": 0
   }
  }
 },
 "nbformat": 4,
 "nbformat_minor": 5
}
